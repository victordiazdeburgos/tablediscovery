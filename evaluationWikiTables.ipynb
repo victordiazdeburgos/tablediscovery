{
 "cells": [
  {
   "cell_type": "code",
   "execution_count": 42,
   "metadata": {},
   "outputs": [],
   "source": [
    "import import_ipynb\n",
    "from functionsModel import rank_keywords # Similarities using keywords\n",
    "from functionsModel import rank_embeddings # Similarities using word embeddings\n",
    "from preprocessText import preprocess_text # Function to process the text\n",
    "\n",
    "import json\n",
    "import pandas as pd\n",
    "\n",
    "from tabulate import tabulate\n",
    "import time\n",
    "\n",
    "import gensim.downloader as api\n",
    "from pytorch_pretrained_bert import BertTokenizer, BertModel\n",
    "\n",
    "import matplotlib.pyplot as plt\n",
    "import random"
   ]
  },
  {
   "attachments": {},
   "cell_type": "markdown",
   "metadata": {},
   "source": [
    "# Load & Preprocess Tables"
   ]
  },
  {
   "cell_type": "code",
   "execution_count": 48,
   "metadata": {},
   "outputs": [],
   "source": [
    "with open('Data/Evaluation/WikiTables/tables_redi2_1/re_tables-0001.json', 'r') as f:\n",
    "  file = json.load(f)"
   ]
  },
  {
   "cell_type": "code",
   "execution_count": 47,
   "metadata": {},
   "outputs": [
    {
     "name": "stderr",
     "output_type": "stream",
     "text": [
      "C:\\Users\\User\\AppData\\Local\\Temp\\ipykernel_53176\\2062197513.py:1: DeprecationWarning: Sampling from a set deprecated\n",
      "since Python 3.9 and will be removed in a subsequent version.\n",
      "  random_30_tables = random.sample(file.items(), 30)\n"
     ]
    }
   ],
   "source": [
    "random_30_tables = random.sample(file.items(), 30)"
   ]
  },
  {
   "cell_type": "code",
   "execution_count": 49,
   "metadata": {},
   "outputs": [],
   "source": [
    "# Create data lake from the tables in the json file\n",
    "data_lake = []\n",
    "data_lake_captions = []\n",
    "data_lake_pages = []\n",
    "for table_name, table_data in random_30_tables:\n",
    "    table_caption = table_data.get('caption')\n",
    "    table_page = table_data.get('pgTitle')\n",
    "    table_values = table_data.get('data')\n",
    "    table_text = []\n",
    "    for row in table_values:\n",
    "        row_text = '. '.join(str(v) for v in row)\n",
    "        table_text.append(row_text)\n",
    "    table_text = '. '.join(table_text)\n",
    "    data_lake.append(table_text)\n",
    "    data_lake_captions.append(table_caption)\n",
    "    data_lake_pages.append(table_page)"
   ]
  },
  {
   "cell_type": "code",
   "execution_count": 18,
   "metadata": {},
   "outputs": [],
   "source": [
    "# Preprocess text of the table in the data lake\n",
    "data_lake_clean = [preprocess_text(table) for table in data_lake]"
   ]
  },
  {
   "cell_type": "code",
   "execution_count": 19,
   "metadata": {},
   "outputs": [],
   "source": [
    "# Filter out tables with no text\n",
    "data_lake_filtered = []\n",
    "data_lake_indexes_filtered = []\n",
    "for i,table_text in enumerate(data_lake_clean):\n",
    "    if table_text != '':\n",
    "        data_lake_filtered.append(table_text)\n",
    "        data_lake_indexes_filtered.append(i)"
   ]
  },
  {
   "cell_type": "code",
   "execution_count": 20,
   "metadata": {},
   "outputs": [],
   "source": [
    "def originalIndexes(filtered_indexes, list_original_indexes):\n",
    "    original_indexes = []\n",
    "    for index in filtered_indexes:\n",
    "        original_indexes.append(list_original_indexes[index])\n",
    "    return original_indexes"
   ]
  },
  {
   "cell_type": "code",
   "execution_count": 74,
   "metadata": {},
   "outputs": [],
   "source": [
    "# Load query table\n",
    "queries = pd.read_csv('Data/Evaluation/WikiTables/queries.csv', header=None)\n",
    "queries = queries[0].to_list()\n",
    "\n",
    "query_number = 12\n",
    "query = queries[query_number]\n",
    "query_file_number = query[6:10]\n",
    "\n",
    "query_file = 'Data/Evaluation/WikiTables/tables_redi2_1/re_tables-' + query_file_number + '.json'\n",
    "\n",
    "with open(query_file, 'r') as f:\n",
    "  file = json.load(f)\n",
    "\n",
    "for table_name, table_data in file.items():\n",
    "  if table_name == query:\n",
    "    query_caption = table_data.get('caption')\n",
    "    query_page = table_data.get('pgTitle')\n",
    "    query_values = table_data.get('data')\n",
    "    query_text = []\n",
    "    for row in query_values:\n",
    "      row_text = '. '.join(str(v) for v in row)\n",
    "      query_text.append(row_text)\n",
    "    query_text = '. '.join(query_text)\n",
    "\n",
    "if query_text == []:\n",
    "     print(\"Table not found\")"
   ]
  },
  {
   "cell_type": "code",
   "execution_count": null,
   "metadata": {},
   "outputs": [],
   "source": [
    "# Preprocess the text of the query table\n",
    "query_text_clean = preprocess_text(query_text)"
   ]
  },
  {
   "attachments": {},
   "cell_type": "markdown",
   "metadata": {},
   "source": [
    "# Run models on the input tables"
   ]
  },
  {
   "cell_type": "code",
   "execution_count": 23,
   "metadata": {},
   "outputs": [],
   "source": [
    "def printResultsWikiTables(indexes, similarities, data_lake_captions, data_lake_pages, keywordExtractionMethod, embeddingsMethod = None):\n",
    "    # Funtion to print the output list of top-k most similar tables in a readible way\n",
    "    print(\"Keyword extraction method: {}\".format(keywordExtractionMethod))\n",
    "    if embeddingsMethod is not None:\n",
    "        print(\"Embeddings method: {}\".format(embeddingsMethod))\n",
    "\n",
    "    print(\"-----\")\n",
    "\n",
    "    captions = [data_lake_captions[i] for i in indexes]\n",
    "    pages = [data_lake_pages[i] for i in indexes]\n",
    "    table = pd.DataFrame({'Index': indexes, 'Table Caption' : captions, 'Page Title' : pages, 'Similarity': similarities}) \n",
    "    print(tabulate(table, headers=['Index', 'Table Caption', 'Page Title', 'Similarity']))"
   ]
  },
  {
   "attachments": {},
   "cell_type": "markdown",
   "metadata": {},
   "source": [
    "## Load required models"
   ]
  },
  {
   "cell_type": "code",
   "execution_count": 24,
   "metadata": {},
   "outputs": [
    {
     "data": {
      "text/plain": [
       "BertModel(\n",
       "  (embeddings): BertEmbeddings(\n",
       "    (word_embeddings): Embedding(30522, 768, padding_idx=0)\n",
       "    (position_embeddings): Embedding(512, 768)\n",
       "    (token_type_embeddings): Embedding(2, 768)\n",
       "    (LayerNorm): BertLayerNorm()\n",
       "    (dropout): Dropout(p=0.1, inplace=False)\n",
       "  )\n",
       "  (encoder): BertEncoder(\n",
       "    (layer): ModuleList(\n",
       "      (0-11): 12 x BertLayer(\n",
       "        (attention): BertAttention(\n",
       "          (self): BertSelfAttention(\n",
       "            (query): Linear(in_features=768, out_features=768, bias=True)\n",
       "            (key): Linear(in_features=768, out_features=768, bias=True)\n",
       "            (value): Linear(in_features=768, out_features=768, bias=True)\n",
       "            (dropout): Dropout(p=0.1, inplace=False)\n",
       "          )\n",
       "          (output): BertSelfOutput(\n",
       "            (dense): Linear(in_features=768, out_features=768, bias=True)\n",
       "            (LayerNorm): BertLayerNorm()\n",
       "            (dropout): Dropout(p=0.1, inplace=False)\n",
       "          )\n",
       "        )\n",
       "        (intermediate): BertIntermediate(\n",
       "          (dense): Linear(in_features=768, out_features=3072, bias=True)\n",
       "        )\n",
       "        (output): BertOutput(\n",
       "          (dense): Linear(in_features=3072, out_features=768, bias=True)\n",
       "          (LayerNorm): BertLayerNorm()\n",
       "          (dropout): Dropout(p=0.1, inplace=False)\n",
       "        )\n",
       "      )\n",
       "    )\n",
       "  )\n",
       "  (pooler): BertPooler(\n",
       "    (dense): Linear(in_features=768, out_features=768, bias=True)\n",
       "    (activation): Tanh()\n",
       "  )\n",
       ")"
      ]
     },
     "execution_count": 24,
     "metadata": {},
     "output_type": "execute_result"
    }
   ],
   "source": [
    "# Word2Vec\n",
    "model_Word2Vec = api.load(\"word2vec-google-news-300\")\n",
    "\n",
    "# BERT\n",
    "model_name_Bert = 'bert-base-uncased'\n",
    "tokenizer_Bert = BertTokenizer.from_pretrained(model_name_Bert)\n",
    "model_Bert = BertModel.from_pretrained(model_name_Bert)\n",
    "model_Bert.eval()"
   ]
  },
  {
   "attachments": {},
   "cell_type": "markdown",
   "metadata": {},
   "source": [
    "## Run models"
   ]
  },
  {
   "attachments": {},
   "cell_type": "markdown",
   "metadata": {},
   "source": [
    "LDA"
   ]
  },
  {
   "cell_type": "code",
   "execution_count": 25,
   "metadata": {},
   "outputs": [
    {
     "name": "stdout",
     "output_type": "stream",
     "text": [
      "Keyword extraction method: lda\n",
      "-----\n",
      "      Index  Table Caption           Page Title                               Similarity\n",
      "--  -------  ----------------------  -------------------------------------  ------------\n",
      " 0      654  Awards and nominations  Sierra Boggess                            0.0410959\n",
      " 1      276  N                       List of Murder, She Wrote guest stars     0.0273973\n",
      " 2      428  Iron Cross              Iron Cross                                0.027027\n",
      " 3      395  Awards                  Chance Phelps                             0.027027\n",
      " 4       71  1974                    Deram Records                             0.027027\n",
      " 5      538  Iron Cross              Iron Cross                                0.027027\n",
      " 6      555  EPs and Singles         Acrimony                                  0.027027\n",
      " 7       21  Iron Cross              Iron Cross                                0.027027\n",
      " 8      740  Lubrication             Reamer                                    0.0263158\n",
      " 9      440  Jack & Jill             Rina Mimoun                               0.0232558\n",
      "-----\n",
      "Running time: 4.2 seconds\n"
     ]
    }
   ],
   "source": [
    "start_time = time.time()\n",
    "\n",
    "keywordExtractionMethod = 'lda'\n",
    "\n",
    "rank_lda_filtered, rank_lda_similarities = rank_keywords(query_text_clean, data_lake_filtered, keywordExtractionMethod, k=10)\n",
    "rank_lda_indexes = originalIndexes(rank_lda_filtered, data_lake_indexes_filtered)\n",
    "printResultsWikiTables(rank_lda_indexes, rank_lda_similarities, data_lake_captions, data_lake_pages, keywordExtractionMethod)\n",
    "\n",
    "print(\"-----\")\n",
    "running_time_lda = time.time() - start_time\n",
    "print(\"Running time: %s seconds\" % round(running_time_lda,2))"
   ]
  },
  {
   "attachments": {},
   "cell_type": "markdown",
   "metadata": {},
   "source": [
    "YAKE"
   ]
  },
  {
   "cell_type": "code",
   "execution_count": 26,
   "metadata": {},
   "outputs": [
    {
     "name": "stdout",
     "output_type": "stream",
     "text": [
      "Keyword extraction method: yake\n",
      "-----\n",
      "      Index  Table Caption    Page Title                Similarity\n",
      "--  -------  ---------------  ----------------------  ------------\n",
      " 0       21  Iron Cross       Iron Cross                 0.0771581\n",
      " 1      428  Iron Cross       Iron Cross                 0.0639391\n",
      " 2      538  Iron Cross       Iron Cross                 0.0563513\n",
      " 3      740  Lubrication      Reamer                     0.0469693\n",
      " 4      555  EPs and Singles  Acrimony                   0.0459215\n",
      " 5      717  Studio albums    Pat Green                  0.0422988\n",
      " 6       30  North America    Bewitched DVD releases     0.0400209\n",
      " 7      882  Branches         Abdominal aorta            0.0207699\n",
      " 8      395  Awards           Chance Phelps              0.0201707\n",
      " 9      440  Jack & Jill      Rina Mimoun                0.0194725\n",
      "-----\n",
      "Running time: 10.94 seconds\n"
     ]
    }
   ],
   "source": [
    "start_time = time.time()\n",
    "\n",
    "keywordExtractionMethod = 'yake'\n",
    "\n",
    "rank_yake_filtered, rank_yake_similarites = rank_keywords(query_text_clean, data_lake_filtered, keywordExtractionMethod, k=10)\n",
    "rank_yake_indexes = originalIndexes(rank_yake_filtered, data_lake_indexes_filtered)\n",
    "printResultsWikiTables(rank_yake_indexes, rank_yake_similarites, data_lake_captions, data_lake_pages, keywordExtractionMethod)\n",
    "\n",
    "print(\"-----\")\n",
    "running_time_yake = time.time() - start_time\n",
    "print(\"Running time: %s seconds\" % round(running_time_yake,2))"
   ]
  },
  {
   "attachments": {},
   "cell_type": "markdown",
   "metadata": {},
   "source": [
    "LDA + Word2Vec"
   ]
  },
  {
   "cell_type": "code",
   "execution_count": 27,
   "metadata": {},
   "outputs": [
    {
     "name": "stdout",
     "output_type": "stream",
     "text": [
      "Keyword extraction method: lda\n",
      "Embeddings method: word2vec\n",
      "-----\n",
      "      Index  Table Caption                        Page Title                                                                 Similarity\n",
      "--  -------  -----------------------------------  -----------------------------------------------------------------------  ------------\n",
      " 0      303  Winners and nominees                 Daytime Emmy Award for Outstanding Younger Actor in a Drama Series         0.00635196\n",
      " 1      562  Winners and nominees                 Daytime Emmy Award for Outstanding Supporting Actor in a Drama Series      0.00635196\n",
      " 2      286  Track listing                        Takers and Leavers                                                         0.00573791\n",
      " 3      692  Concept                              White City: A Novel                                                        0.00573791\n",
      " 4      758  Winners and nominees                 Daytime Emmy Award for Outstanding Younger Actress in a Drama Series       0.00551269\n",
      " 5      235  Winners and nominees                 Daytime Emmy Award for Outstanding Supporting Actress in a Drama Series    0.00551269\n",
      " 6      760  Historical population of Bridgeport  History of Bridgeport, Connecticut                                         0.00508513\n",
      " 7       24  Economic history                     History of West Haven, Connecticut                                         0.00508513\n",
      " 8      781  Crime                                Government of Minneapolis                                                  0.00450637\n",
      " 9      837  Chart positions                      Fitzcarraldo (1996 album)                                                  0.0040965\n",
      "-----\n",
      "Running time: 4.0 seconds\n"
     ]
    }
   ],
   "source": [
    "start_time = time.time()\n",
    "\n",
    "keywordExtractionMethod = 'lda'\n",
    "embeddingsMethod = 'word2vec'\n",
    "\n",
    "rank_lda_word2vec_filtered, rank_lda_word2vec_similarities = rank_embeddings(query_text_clean, data_lake_filtered, keywordExtractionMethod, embeddingsMethod, model_Word2Vec, k = 10)\n",
    "rank_lda_word2vec_indexes = originalIndexes(rank_lda_word2vec_filtered, data_lake_indexes_filtered)\n",
    "printResultsWikiTables(rank_lda_word2vec_indexes, rank_lda_word2vec_similarities, data_lake_captions, data_lake_pages, keywordExtractionMethod, embeddingsMethod)\n",
    "\n",
    "print(\"-----\")\n",
    "running_time_lda_word2vec = time.time() - start_time\n",
    "print(\"Running time: %s seconds\" % round(running_time_lda_word2vec,2))"
   ]
  },
  {
   "attachments": {},
   "cell_type": "markdown",
   "metadata": {},
   "source": [
    "LDA + BERT"
   ]
  },
  {
   "cell_type": "code",
   "execution_count": 28,
   "metadata": {},
   "outputs": [
    {
     "name": "stdout",
     "output_type": "stream",
     "text": [
      "Keyword extraction method: lda\n",
      "Embeddings method: bert\n",
      "-----\n",
      "      Index  Table Caption             Page Title                                                                 Similarity\n",
      "--  -------  ------------------------  -----------------------------------------------------------------------  ------------\n",
      " 0      286  Track listing             Takers and Leavers                                                          0.0449835\n",
      " 1      692  Concept                   White City: A Novel                                                         0.0449835\n",
      " 2      933  8-car 9000 series         Keio 9000 series                                                            0.044608\n",
      " 3      530  10-car 9030 series        Keio 9000 series                                                            0.044608\n",
      " 4      517  Chairman (1856-1862)      List of mayors of Fitzroy                                                   0.0434491\n",
      " 5      235  Winners and nominees      Daytime Emmy Award for Outstanding Supporting Actress in a Drama Series     0.0434308\n",
      " 6      758  Winners and nominees      Daytime Emmy Award for Outstanding Younger Actress in a Drama Series        0.0434308\n",
      " 7      583  Active buses              Belleville Transit                                                          0.0429729\n",
      " 8      467  LPGA Tour career summary  Meaghan Francella                                                           0.0429047\n",
      " 9      781  Crime                     Government of Minneapolis                                                   0.0423649\n",
      "-----\n",
      "Running time: 337.04 seconds\n"
     ]
    }
   ],
   "source": [
    "start_time = time.time()\n",
    "\n",
    "keywordExtractionMethod='lda'\n",
    "embeddingsMethod = 'bert'\n",
    "\n",
    "rank_lda_bert_filtered, rank_lda_bert_similarities = rank_embeddings(query_text_clean, data_lake_filtered, keywordExtractionMethod, embeddingsMethod, model_Bert, tokenizer_Bert, k=10)\n",
    "rank_lda_bert_indexes = originalIndexes(rank_lda_bert_filtered, data_lake_indexes_filtered)\n",
    "printResultsWikiTables(rank_lda_bert_indexes, rank_lda_bert_similarities, data_lake_captions, data_lake_pages, keywordExtractionMethod, embeddingsMethod)\n",
    "\n",
    "print(\"-----\")\n",
    "running_time_lda_bert = time.time() - start_time\n",
    "print(\"Running time: %s seconds\" % round(running_time_lda_bert,2))"
   ]
  },
  {
   "attachments": {},
   "cell_type": "markdown",
   "metadata": {},
   "source": [
    "YAKE + Word2Vec"
   ]
  },
  {
   "cell_type": "code",
   "execution_count": 29,
   "metadata": {},
   "outputs": [
    {
     "name": "stdout",
     "output_type": "stream",
     "text": [
      "Keyword extraction method: yake\n",
      "Embeddings method: word2vec\n",
      "-----\n",
      "      Index  Table Caption                                         Page Title                                             Similarity\n",
      "--  -------  ----------------------------------------------------  ---------------------------------------------------  ------------\n",
      " 0      224  Most club appearances                                 FC Kuressaare                                          0.0031264\n",
      " 1      185  Division 2 Västra 1940 41                             1940–41 in Swedish football                            0.00282359\n",
      " 2      633  Goalscorers                                           2006–07 York City F.C. season                          0.00276975\n",
      " 3      299  Schools With at Least Three Boys State Championships  Sweet Sixteen (KHSAA State Basketball Championship)    0.00265337\n",
      " 4      806  1980                                                  Deram Records                                          0.00257548\n",
      " 5      337                                                        List of Malaysian electoral districts                  0.00251265\n",
      " 6      531  Territorial losses                                    Roman Catholic Diocese of Hearst                       0.00241844\n",
      " 7      372                                                        La Chienne Belle                                       0.00220567\n",
      " 8      460  2008 season                                           Derby H:O Racing Club                                  0.00216167\n",
      " 9      130  Group 1                                               1998 Copa Libertadores                                 0.00215054\n",
      "-----\n",
      "Running time: 13.07 seconds\n"
     ]
    }
   ],
   "source": [
    "start_time = time.time()\n",
    "\n",
    "keywordExtractionMethod = 'yake'\n",
    "embeddingsMethod = 'word2vec'\n",
    "\n",
    "rank_yake_word2vec_filtered, rank_yake_word2vec_similarities = rank_embeddings(query_text_clean, data_lake_filtered, keywordExtractionMethod, embeddingsMethod, model_Word2Vec, k=10)\n",
    "rank_yake_word2vec_indexes = originalIndexes(rank_yake_word2vec_filtered, data_lake_indexes_filtered)\n",
    "printResultsWikiTables(rank_yake_word2vec_indexes, rank_yake_word2vec_similarities, data_lake_captions, data_lake_pages, keywordExtractionMethod, embeddingsMethod)\n",
    "\n",
    "print(\"-----\")\n",
    "running_time_yake_word2vec = time.time() - start_time\n",
    "print(\"Running time: %s seconds\" % round(running_time_yake_word2vec,2))"
   ]
  },
  {
   "attachments": {},
   "cell_type": "markdown",
   "metadata": {},
   "source": [
    "YAKE + BERT"
   ]
  },
  {
   "cell_type": "code",
   "execution_count": 30,
   "metadata": {},
   "outputs": [
    {
     "name": "stdout",
     "output_type": "stream",
     "text": [
      "Keyword extraction method: yake\n",
      "Embeddings method: bert\n",
      "-----\n",
      "      Index  Table Caption                                         Page Title                                             Similarity\n",
      "--  -------  ----------------------------------------------------  ---------------------------------------------------  ------------\n",
      " 0      372                                                        La Chienne Belle                                        0.0173759\n",
      " 1      806  1980                                                  Deram Records                                           0.0169538\n",
      " 2      633  Goalscorers                                           2006–07 York City F.C. season                           0.0169088\n",
      " 3       89  1979                                                  Deram Records                                           0.0158575\n",
      " 4      299  Schools With at Least Three Boys State Championships  Sweet Sixteen (KHSAA State Basketball Championship)     0.0152186\n",
      " 5        6  External links                                        Interstate 20 in Texas                                  0.0152067\n",
      " 6      224  Most club appearances                                 FC Kuressaare                                           0.0151992\n",
      " 7      272  Final standings                                       2007 Canadian Major Indoor Soccer League season         0.014515\n",
      " 8      460  2008 season                                           Derby H:O Racing Club                                   0.0143935\n",
      " 9      538  Iron Cross                                            Iron Cross                                              0.01432\n",
      "-----\n",
      "Running time: 434.07 seconds\n"
     ]
    }
   ],
   "source": [
    "start_time = time.time()\n",
    "\n",
    "keywordExtractionMethod='yake'\n",
    "embeddingsMethod = 'bert'\n",
    "\n",
    "rank_yake_bert_filtered, rank_yake_bert_similarites = rank_embeddings(query_text_clean, data_lake_filtered, keywordExtractionMethod, embeddingsMethod, model_Bert, tokenizer_Bert, k=10)\n",
    "rank_yake_bert_indexes = originalIndexes(rank_yake_bert_filtered, data_lake_indexes_filtered)\n",
    "printResultsWikiTables(rank_yake_bert_indexes, rank_yake_bert_similarites, data_lake_captions, data_lake_pages, keywordExtractionMethod, embeddingsMethod)\n",
    "\n",
    "print(\"-----\")\n",
    "running_time_yake_bert = time.time() - start_time\n",
    "print(\"Running time: %s seconds\" % round(running_time_yake_bert,2))"
   ]
  },
  {
   "attachments": {},
   "cell_type": "markdown",
   "metadata": {},
   "source": [
    "# Analysis of the results"
   ]
  },
  {
   "attachments": {},
   "cell_type": "markdown",
   "metadata": {},
   "source": [
    "Results"
   ]
  },
  {
   "cell_type": "code",
   "execution_count": 31,
   "metadata": {},
   "outputs": [
    {
     "name": "stdout",
     "output_type": "stream",
     "text": [
      "  LDA    Yake    LDA + Word2Vec    LDA + BERT    Yake + Word2Vec    Yake + BERT\n",
      "-----  ------  ----------------  ------------  -----------------  -------------\n",
      "  654      21               303           286                224            372\n",
      "  276     428               562           692                185            806\n",
      "  428     538               286           933                633            633\n",
      "  395     740               692           530                299             89\n",
      "   71     555               758           517                806            299\n",
      "  538     717               235           235                337              6\n",
      "  555      30               760           758                531            224\n",
      "   21     882                24           583                372            272\n",
      "  740     395               781           467                460            460\n",
      "  440     440               837           781                130            538\n"
     ]
    }
   ],
   "source": [
    "results_indexes = {\n",
    "    'LDA': rank_lda_indexes,\n",
    "    'Yake': rank_yake_indexes,\n",
    "    'LDA + Word2Vec': rank_lda_word2vec_indexes,\n",
    "    'LDA + BERT': rank_lda_bert_indexes,\n",
    "    'Yake + Word2Vec': rank_yake_word2vec_indexes,\n",
    "    'Yake + BERT': rank_yake_bert_indexes\n",
    "    }\n",
    "print(tabulate(results_indexes, list(results_indexes.keys())))"
   ]
  },
  {
   "attachments": {},
   "cell_type": "markdown",
   "metadata": {},
   "source": [
    "Efficiency"
   ]
  },
  {
   "cell_type": "code",
   "execution_count": 32,
   "metadata": {},
   "outputs": [
    {
     "data": {
      "image/png": "[encoded data removed]",
      "text/plain": [
       "<Figure size 1000x500 with 1 Axes>"
      ]
     },
     "metadata": {},
     "output_type": "display_data"
    }
   ],
   "source": [
    "running_times = {\n",
    "    'LDA': running_time_lda,\n",
    "    'Yake': running_time_yake,\n",
    "    'LDA + Word2Vec': running_time_lda_word2vec,\n",
    "    'LDA + BERT': running_time_lda_bert,\n",
    "    'Yake + Word2Vec': running_time_yake_word2vec,\n",
    "    'Yake + BERT': running_time_yake_bert\n",
    "}\n",
    "\n",
    "\n",
    "models = list(running_times.keys())\n",
    "times = list(running_times.values())\n",
    "  \n",
    "fig = plt.figure(figsize = (10, 5))\n",
    "plt.bar(models, times)\n",
    "plt.xlabel(\"Model\")\n",
    "plt.ylabel(\"Time (seconds)\")\n",
    "plt.title(\"Execution time of the models\")\n",
    "plt.show()"
   ]
  }
 ],
 "metadata": {
  "kernelspec": {
   "display_name": "Python 3",
   "language": "python",
   "name": "python3"
  },
  "language_info": {
   "codemirror_mode": {
    "name": "ipython",
    "version": 3
   },
   "file_extension": ".py",
   "mimetype": "text/x-python",
   "name": "python",
   "nbconvert_exporter": "python",
   "pygments_lexer": "ipython3",
   "version": "3.10.7"
  },
  "orig_nbformat": 4
 },
 "nbformat": 4,
 "nbformat_minor": 2
}
