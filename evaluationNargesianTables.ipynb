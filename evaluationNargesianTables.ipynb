{
 "cells": [
  {
   "cell_type": "code",
   "execution_count": 1,
   "metadata": {},
   "outputs": [
    {
     "name": "stdout",
     "output_type": "stream",
     "text": [
      "importing Jupyter notebook from functionsModel.ipynb\n",
      "importing Jupyter notebook from preprocessText.ipynb\n"
     ]
    },
    {
     "name": "stderr",
     "output_type": "stream",
     "text": [
      "[nltk_data] Downloading package stopwords to\n",
      "[nltk_data]     C:\\Users\\User\\AppData\\Roaming\\nltk_data...\n",
      "[nltk_data]   Package stopwords is already up-to-date!\n"
     ]
    }
   ],
   "source": [
    "import import_ipynb\n",
    "from functionsModel import rank_simple_similarity # Similarities using raw values\n",
    "from functionsModel import rank_keywords # Similarities using keywords\n",
    "from functionsModel import rank_embeddings # Similarities using word embeddings\n",
    "from preprocessText import preprocess_text # Function to process the text\n",
    "\n",
    "import pandas as pd\n",
    "import numpy as np\n",
    "\n",
    "from tabulate import tabulate\n",
    "import time\n",
    "\n",
    "import gensim.downloader as api\n",
    "from pytorch_pretrained_bert import BertTokenizer, BertModel\n",
    "\n",
    "import matplotlib.pyplot as plt\n",
    "\n",
    "import os\n",
    "import pickle"
   ]
  },
  {
   "attachments": {},
   "cell_type": "markdown",
   "metadata": {},
   "source": [
    "# Load & Preprocess Tables"
   ]
  },
  {
   "attachments": {},
   "cell_type": "markdown",
   "metadata": {},
   "source": [
    "## Data lake"
   ]
  },
  {
   "cell_type": "code",
   "execution_count": 2,
   "metadata": {},
   "outputs": [],
   "source": [
    "# Load data lake\n",
    "directory = 'Data/Evaluation/Nargesian/DataLake/'\n",
    "data_lake = []\n",
    "for filename in os.listdir(directory):\n",
    "    file = os.path.join(directory, filename)\n",
    "    table = pd.read_csv(file, encoding = \"ISO-8859-1\")\n",
    "    data_lake.append(table)"
   ]
  },
  {
   "cell_type": "code",
   "execution_count": 3,
   "metadata": {},
   "outputs": [],
   "source": [
    "# Convert data lake tables into text\n",
    "data_lake_text = [' '.join(table.apply(lambda row: ' '.join(row.astype(str)), axis=1)) for table in data_lake]"
   ]
  },
  {
   "cell_type": "code",
   "execution_count": 4,
   "metadata": {},
   "outputs": [],
   "source": [
    "# Preprocess text of the tables in the data lake\n",
    "data_lake_clean = [preprocess_text(table) for table in data_lake_text]"
   ]
  },
  {
   "cell_type": "code",
   "execution_count": 5,
   "metadata": {},
   "outputs": [],
   "source": [
    "# Save data lake clean to do not have to run the preprocessing every time\n",
    "with open(\"Data/Evaluation/Nargesian/datalake_clean\", \"wb\") as fp:   #Pickling\n",
    "    pickle.dump(data_lake_clean, fp)"
   ]
  },
  {
   "cell_type": "code",
   "execution_count": 3,
   "metadata": {},
   "outputs": [],
   "source": [
    "# Load already cleaned data lake\n",
    "with open(\"Data/Evaluation/Nargesian/datalake_clean\", \"rb\") as fp:   # Unpickling\n",
    "    data_lake_clean = pickle.load(fp)"
   ]
  },
  {
   "cell_type": "code",
   "execution_count": 4,
   "metadata": {},
   "outputs": [],
   "source": [
    "# Select query - We select one of the tables in the data lake to be the query table\n",
    "query_number = 0\n",
    "query = data_lake.pop(query_number) # Select whole table\n",
    "query_text_clean = data_lake_clean.pop(query_number) # Select directly preprocess text"
   ]
  },
  {
   "cell_type": "code",
   "execution_count": 5,
   "metadata": {},
   "outputs": [],
   "source": [
    "# Filter out tables with no text\n",
    "data_lake_filtered = []\n",
    "data_lake_indexes_filtered = []\n",
    "for i,table_text in enumerate(data_lake_clean):\n",
    "    if table_text != '':\n",
    "        data_lake_filtered.append(table_text)\n",
    "        data_lake_indexes_filtered.append(i)"
   ]
  },
  {
   "cell_type": "code",
   "execution_count": 6,
   "metadata": {},
   "outputs": [],
   "source": [
    "def originalIndexes(filtered_indexes, list_original_indexes):\n",
    "    # Function to go back to original indexes from the filtered ones\n",
    "    original_indexes = []\n",
    "    for index in filtered_indexes:\n",
    "        original_indexes.append(list_original_indexes[index])\n",
    "    return original_indexes"
   ]
  },
  {
   "cell_type": "code",
   "execution_count": 7,
   "metadata": {},
   "outputs": [],
   "source": [
    "def actualIndexes(indexes, query_number):\n",
    "    # Function to retrieve the actual index after poping out the query table\n",
    "    actual_indexes = []\n",
    "    for index in indexes:\n",
    "        if index >= query_number:\n",
    "            actual_indexes.append(index+1)\n",
    "        else:\n",
    "            actual_indexes.append(index)\n",
    "\n",
    "    return actual_indexes"
   ]
  },
  {
   "attachments": {},
   "cell_type": "markdown",
   "metadata": {},
   "source": [
    "# Run models on the input tables"
   ]
  },
  {
   "cell_type": "code",
   "execution_count": 8,
   "metadata": {},
   "outputs": [],
   "source": [
    "def printResultsNargesianTables(indexes, similarities, keywordExtractionMethod = None, embeddingsMethod = None):\n",
    "    # Funtion to print the output list of top-k most similar tables in a readible way\n",
    "    if keywordExtractionMethod is not None:\n",
    "        print(\"Keyword extraction method: {}\".format(keywordExtractionMethod))\n",
    "    if embeddingsMethod is not None:\n",
    "        print(\"Embeddings method: {}\".format(embeddingsMethod))\n",
    "\n",
    "    print(\"-----\")\n",
    "\n",
    "    table = pd.DataFrame({'Index': indexes, 'Similarity': similarities}) \n",
    "    print(tabulate(table, headers=['Index', 'Similarity']))"
   ]
  },
  {
   "attachments": {},
   "cell_type": "markdown",
   "metadata": {},
   "source": [
    "## Load required models"
   ]
  },
  {
   "cell_type": "code",
   "execution_count": 9,
   "metadata": {},
   "outputs": [
    {
     "data": {
      "text/plain": [
       "BertModel(\n",
       "  (embeddings): BertEmbeddings(\n",
       "    (word_embeddings): Embedding(30522, 768, padding_idx=0)\n",
       "    (position_embeddings): Embedding(512, 768)\n",
       "    (token_type_embeddings): Embedding(2, 768)\n",
       "    (LayerNorm): BertLayerNorm()\n",
       "    (dropout): Dropout(p=0.1, inplace=False)\n",
       "  )\n",
       "  (encoder): BertEncoder(\n",
       "    (layer): ModuleList(\n",
       "      (0-11): 12 x BertLayer(\n",
       "        (attention): BertAttention(\n",
       "          (self): BertSelfAttention(\n",
       "            (query): Linear(in_features=768, out_features=768, bias=True)\n",
       "            (key): Linear(in_features=768, out_features=768, bias=True)\n",
       "            (value): Linear(in_features=768, out_features=768, bias=True)\n",
       "            (dropout): Dropout(p=0.1, inplace=False)\n",
       "          )\n",
       "          (output): BertSelfOutput(\n",
       "            (dense): Linear(in_features=768, out_features=768, bias=True)\n",
       "            (LayerNorm): BertLayerNorm()\n",
       "            (dropout): Dropout(p=0.1, inplace=False)\n",
       "          )\n",
       "        )\n",
       "        (intermediate): BertIntermediate(\n",
       "          (dense): Linear(in_features=768, out_features=3072, bias=True)\n",
       "        )\n",
       "        (output): BertOutput(\n",
       "          (dense): Linear(in_features=3072, out_features=768, bias=True)\n",
       "          (LayerNorm): BertLayerNorm()\n",
       "          (dropout): Dropout(p=0.1, inplace=False)\n",
       "        )\n",
       "      )\n",
       "    )\n",
       "  )\n",
       "  (pooler): BertPooler(\n",
       "    (dense): Linear(in_features=768, out_features=768, bias=True)\n",
       "    (activation): Tanh()\n",
       "  )\n",
       ")"
      ]
     },
     "execution_count": 9,
     "metadata": {},
     "output_type": "execute_result"
    }
   ],
   "source": [
    "# Word2Vec\n",
    "model_Word2Vec = api.load(\"word2vec-google-news-300\")\n",
    "\n",
    "# BERT\n",
    "model_name_Bert = 'bert-base-uncased'\n",
    "tokenizer_Bert = BertTokenizer.from_pretrained(model_name_Bert)\n",
    "model_Bert = BertModel.from_pretrained(model_name_Bert)\n",
    "model_Bert.eval()"
   ]
  },
  {
   "attachments": {},
   "cell_type": "markdown",
   "metadata": {},
   "source": [
    "## Run models"
   ]
  },
  {
   "cell_type": "code",
   "execution_count": 2,
   "metadata": {},
   "outputs": [],
   "source": [
    "k = 10 # number of tables we want the model to output"
   ]
  },
  {
   "attachments": {},
   "cell_type": "markdown",
   "metadata": {},
   "source": [
    "Simple Similarity"
   ]
  },
  {
   "cell_type": "code",
   "execution_count": 16,
   "metadata": {},
   "outputs": [
    {
     "name": "stdout",
     "output_type": "stream",
     "text": [
      "-----\n",
      "Running time: 5.7 seconds\n"
     ]
    }
   ],
   "source": [
    "start_time = time.time()\n",
    "\n",
    "rank_simple_indexes, rank_simple_similarities = rank_simple_similarity(query, data_lake, k=len(data_lake))\n",
    "rank_simple_indexes_real = actualIndexes(rank_simple_indexes, query_number)\n",
    "# printResultsNargesianTables(rank_simple_indexes_real[:k], rank_simple_similarities[:k])\n",
    "\n",
    "print(\"-----\")\n",
    "running_time_simple = time.time() - start_time\n",
    "print(\"Running time: %s seconds\" % round(running_time_simple,2))"
   ]
  },
  {
   "cell_type": "code",
   "execution_count": 17,
   "metadata": {},
   "outputs": [
    {
     "name": "stdout",
     "output_type": "stream",
     "text": [
      "-----\n",
      "      Index    Similarity\n",
      "--  -------  ------------\n",
      " 0        1   0.225939\n",
      " 1       21   0.000459137\n",
      " 2       12   0.000344828\n",
      " 3        6   0.000167673\n",
      " 4       11   0.000148697\n",
      " 5       16   6.94219e-06\n",
      " 6       14   6.46331e-06\n",
      " 7       17   5.56854e-06\n",
      " 8        4   4.21709e-06\n",
      " 9        5   4.12633e-06\n"
     ]
    }
   ],
   "source": [
    "printResultsNargesianTables(rank_simple_indexes_real[:k], rank_simple_similarities[:k])"
   ]
  },
  {
   "attachments": {},
   "cell_type": "markdown",
   "metadata": {},
   "source": [
    "LDA"
   ]
  },
  {
   "cell_type": "code",
   "execution_count": 20,
   "metadata": {},
   "outputs": [
    {
     "name": "stdout",
     "output_type": "stream",
     "text": [
      "-----\n",
      "Running time: 6.73 seconds\n"
     ]
    }
   ],
   "source": [
    "start_time = time.time()\n",
    "\n",
    "keywordExtractionMethod = 'lda'\n",
    "\n",
    "rank_lda_filtered, rank_lda_similarities, running_time_lda_noprocess = rank_keywords(query_text_clean, data_lake_filtered, keywordExtractionMethod, k = len(data_lake_filtered))\n",
    "rank_lda_indexes = originalIndexes(rank_lda_filtered, data_lake_indexes_filtered)\n",
    "rank_lda_indexes_real = actualIndexes(rank_lda_indexes, query_number)\n",
    "# printResultsNargesianTables(rank_lda_indexes_real[:k], rank_lda_similarities[:k], keywordExtractionMethod)\n",
    "\n",
    "print(\"-----\")\n",
    "running_time_lda = time.time() - start_time\n",
    "print(\"Running time: %s seconds\" % round(running_time_lda,2))\n",
    "print(\"Running time (no process): %s seconds\" % round(running_time_lda_noprocess,2))"
   ]
  },
  {
   "cell_type": "code",
   "execution_count": 19,
   "metadata": {},
   "outputs": [
    {
     "name": "stdout",
     "output_type": "stream",
     "text": [
      "Keyword extraction method: lda\n",
      "-----\n",
      "      Index    Similarity\n",
      "--  -------  ------------\n",
      " 0        1     0.603306\n",
      " 1       12     0.0896701\n",
      " 2       13     0.0188679\n",
      " 3       21     0\n",
      " 4       10     0\n",
      " 5        2     0\n",
      " 6        3     0\n",
      " 7        4     0\n",
      " 8        5     0\n",
      " 9        6     0\n"
     ]
    }
   ],
   "source": [
    "printResultsNargesianTables(rank_lda_indexes_real[:k], rank_lda_similarities[:k], keywordExtractionMethod)\n"
   ]
  },
  {
   "attachments": {},
   "cell_type": "markdown",
   "metadata": {},
   "source": [
    "YAKE"
   ]
  },
  {
   "cell_type": "code",
   "execution_count": 16,
   "metadata": {},
   "outputs": [
    {
     "name": "stdout",
     "output_type": "stream",
     "text": [
      "-----\n",
      "Running time: 278.95 seconds\n"
     ]
    }
   ],
   "source": [
    "start_time = time.time()\n",
    "\n",
    "keywordExtractionMethod = 'yake'\n",
    "\n",
    "rank_yake_filtered, rank_yake_similarities, running_time_yake_noprocess = rank_keywords(query_text_clean, data_lake_filtered, keywordExtractionMethod, k = len(data_lake_filtered))\n",
    "rank_yake_indexes = originalIndexes(rank_yake_filtered, data_lake_indexes_filtered)\n",
    "rank_yake_indexes_real = actualIndexes(rank_yake_indexes, query_number)\n",
    "# printResultsNargesianTables(rank_yake_indexes_real[:k], rank_yake_similarities[:k], keywordExtractionMethod)\n",
    "\n",
    "print(\"-----\")\n",
    "running_time_yake = time.time() - start_time\n",
    "print(\"Running time: %s seconds\" % round(running_time_yake,2))\n",
    "print(\"Running time (no process): %s seconds\" % round(running_time_yake_noprocess,2))"
   ]
  },
  {
   "cell_type": "code",
   "execution_count": 21,
   "metadata": {},
   "outputs": [
    {
     "name": "stdout",
     "output_type": "stream",
     "text": [
      "Keyword extraction method: yake\n",
      "-----\n",
      "      Index    Similarity\n",
      "--  -------  ------------\n",
      " 0        1    0.469115\n",
      " 1       13    0.0455397\n",
      " 2       12    0.00349227\n",
      " 3       20    0\n",
      " 4       19    0\n",
      " 5        2    0\n",
      " 6        3    0\n",
      " 7        4    0\n",
      " 8        5    0\n",
      " 9        6    0\n"
     ]
    }
   ],
   "source": [
    "printResultsNargesianTables(rank_yake_indexes_real[:k], rank_yake_similarities[:k], keywordExtractionMethod)"
   ]
  },
  {
   "attachments": {},
   "cell_type": "markdown",
   "metadata": {},
   "source": [
    "LDA + Word2Vec"
   ]
  },
  {
   "cell_type": "code",
   "execution_count": 22,
   "metadata": {},
   "outputs": [
    {
     "name": "stdout",
     "output_type": "stream",
     "text": [
      "-----\n",
      "Running time: 0.04 seconds\n"
     ]
    }
   ],
   "source": [
    "start_time = time.time()\n",
    "\n",
    "keywordExtractionMethod = 'lda'\n",
    "embeddingsMethod = 'word2vec'\n",
    "\n",
    "rank_lda_word2vec_filtered, rank_lda_word2vec_similarities, running_time_lda_word2vec_noprocess = rank_embeddings(query_text_clean, data_lake_filtered, keywordExtractionMethod, embeddingsMethod, model_Word2Vec, k = len(data_lake_filtered))\n",
    "rank_lda_word2vec_indexes = originalIndexes(rank_lda_word2vec_filtered, data_lake_indexes_filtered)\n",
    "rank_lda_word2vec_indexes_real = actualIndexes(rank_lda_word2vec_indexes, query_number)\n",
    "# printResultsNargesianTables(rank_lda_word2vec_indexes_real[:k], rank_lda_word2vec_similarities[:k], keywordExtractionMethod, embeddingsMethod)\n",
    "\n",
    "print(\"-----\")\n",
    "running_time_lda_word2vec = time.time() - start_time\n",
    "print(\"Running time: %s seconds\" % round(running_time_lda_word2vec,2))\n",
    "print(\"Running time (no process): %s seconds\" % round(running_time_lda_word2vec_noprocess,2))"
   ]
  },
  {
   "cell_type": "code",
   "execution_count": 23,
   "metadata": {},
   "outputs": [
    {
     "name": "stdout",
     "output_type": "stream",
     "text": [
      "Keyword extraction method: lda\n",
      "Embeddings method: word2vec\n",
      "-----\n",
      "      Index    Similarity\n",
      "--  -------  ------------\n",
      " 0        1   0.00256899\n",
      " 1       12   0.00227715\n",
      " 2       21   0.000701844\n",
      " 3        8   0.000645691\n",
      " 4       11   0.000604231\n",
      " 5        7   0.000597967\n",
      " 6        6   0.000597149\n",
      " 7        5   0.000597109\n",
      " 8       13   0.000584226\n",
      " 9        4   0.000579405\n"
     ]
    }
   ],
   "source": [
    "printResultsNargesianTables(rank_lda_word2vec_indexes_real[:k], rank_lda_word2vec_similarities[:k], keywordExtractionMethod, embeddingsMethod)"
   ]
  },
  {
   "attachments": {},
   "cell_type": "markdown",
   "metadata": {},
   "source": [
    "LDA + BERT"
   ]
  },
  {
   "cell_type": "code",
   "execution_count": 24,
   "metadata": {},
   "outputs": [
    {
     "name": "stdout",
     "output_type": "stream",
     "text": [
      "-----\n",
      "Running time: 0.42 seconds\n"
     ]
    }
   ],
   "source": [
    "start_time = time.time()\n",
    "\n",
    "keywordExtractionMethod='lda'\n",
    "embeddingsMethod = 'bert'\n",
    "\n",
    "rank_lda_bert_filtered, rank_lda_bert_similarities, running_time_lda_bert_noprocess = rank_embeddings(query_text_clean, data_lake_filtered, keywordExtractionMethod, embeddingsMethod, model_Bert, tokenizer_Bert, k = len(data_lake_filtered))\n",
    "rank_lda_bert_indexes = originalIndexes(rank_lda_bert_filtered, data_lake_indexes_filtered)\n",
    "rank_lda_bert_indexes_real = actualIndexes(rank_lda_bert_indexes, query_number)\n",
    "# printResultsNargesianTables(rank_lda_bert_indexes_real[:k], rank_lda_bert_similarities[:k], keywordExtractionMethod, embeddingsMethod)\n",
    "\n",
    "print(\"-----\")\n",
    "running_time_lda_bert = time.time() - start_time\n",
    "print(\"Running time: %s seconds\" % round(running_time_lda_bert,2))\n",
    "print(\"Running time (no process): %s seconds\" % round(running_time_lda_bert_noprocess,2))"
   ]
  },
  {
   "cell_type": "code",
   "execution_count": 25,
   "metadata": {},
   "outputs": [
    {
     "name": "stdout",
     "output_type": "stream",
     "text": [
      "Keyword extraction method: lda\n",
      "Embeddings method: bert\n",
      "-----\n",
      "      Index    Similarity\n",
      "--  -------  ------------\n",
      " 0        1    0.00785884\n",
      " 1       12    0.00748419\n",
      " 2       21    0.00734696\n",
      " 3       11    0.00720014\n",
      " 4        7    0.00718866\n",
      " 5        6    0.00718724\n",
      " 6        5    0.00718716\n",
      " 7        4    0.0071698\n",
      " 8       23    0.00714089\n",
      " 9       10    0.00711125\n"
     ]
    }
   ],
   "source": [
    "printResultsNargesianTables(rank_lda_bert_indexes_real[:k], rank_lda_bert_similarities[:k], keywordExtractionMethod, embeddingsMethod)"
   ]
  },
  {
   "attachments": {},
   "cell_type": "markdown",
   "metadata": {},
   "source": [
    "YAKE + Word2Vec"
   ]
  },
  {
   "cell_type": "code",
   "execution_count": 18,
   "metadata": {},
   "outputs": [
    {
     "name": "stdout",
     "output_type": "stream",
     "text": [
      "-----\n",
      "Running time: 283.82 seconds\n"
     ]
    }
   ],
   "source": [
    "start_time = time.time()\n",
    "\n",
    "keywordExtractionMethod = 'yake'\n",
    "embeddingsMethod = 'word2vec'\n",
    "\n",
    "rank_yake_word2vec_filtered, rank_yake_word2vec_similarities, running_time_yake_word2vec_noprocess = rank_embeddings(query_text_clean, data_lake_filtered, keywordExtractionMethod, embeddingsMethod, model_Word2Vec, k = len(data_lake_filtered))\n",
    "rank_yake_word2vec_indexes = originalIndexes(rank_yake_word2vec_filtered, data_lake_indexes_filtered)\n",
    "rank_yake_word2vec_indexes_real = actualIndexes(rank_yake_word2vec_indexes, query_number)\n",
    "# printResultsNargesianTables(rank_yake_word2vec_indexes_real[:k], rank_yake_word2vec_similarities[:k], keywordExtractionMethod, embeddingsMethod)\n",
    "\n",
    "print(\"-----\")\n",
    "running_time_yake_word2vec = time.time() - start_time\n",
    "print(\"Running time: %s seconds\" % round(running_time_yake_word2vec,2))\n",
    "print(\"Running time (no process): %s seconds\" % round(running_time_yake_word2vec_noprocess,2))"
   ]
  },
  {
   "cell_type": "code",
   "execution_count": 27,
   "metadata": {},
   "outputs": [
    {
     "name": "stdout",
     "output_type": "stream",
     "text": [
      "Keyword extraction method: yake\n",
      "Embeddings method: word2vec\n",
      "-----\n",
      "      Index    Similarity\n",
      "--  -------  ------------\n",
      " 0        1   4.55045e-05\n",
      " 1       13   3.59035e-05\n",
      " 2       20   2.0679e-05\n",
      " 3       19   1.02293e-05\n",
      " 4       23   7.15738e-06\n",
      " 5       22   5.03005e-06\n",
      " 6       21   2.65334e-06\n",
      " 7       12   1.38717e-06\n",
      " 8        8   5.23958e-07\n",
      " 9       18   4.48135e-07\n"
     ]
    }
   ],
   "source": [
    "printResultsNargesianTables(rank_yake_word2vec_indexes_real[:k], rank_yake_word2vec_similarities[:k], keywordExtractionMethod, embeddingsMethod)"
   ]
  },
  {
   "attachments": {},
   "cell_type": "markdown",
   "metadata": {},
   "source": [
    "YAKE + BERT"
   ]
  },
  {
   "cell_type": "code",
   "execution_count": 19,
   "metadata": {},
   "outputs": [
    {
     "name": "stdout",
     "output_type": "stream",
     "text": [
      "-----\n",
      "Running time: 277.42 seconds\n"
     ]
    }
   ],
   "source": [
    "start_time = time.time()\n",
    "\n",
    "keywordExtractionMethod='yake'\n",
    "embeddingsMethod = 'bert'\n",
    "\n",
    "rank_yake_bert_filtered, rank_yake_bert_similarities, running_time_yake_bert_noprocess = rank_embeddings(query_text_clean, data_lake_filtered, keywordExtractionMethod, embeddingsMethod, model_Bert, tokenizer_Bert, k = len(data_lake_filtered))\n",
    "rank_yake_bert_indexes = originalIndexes(rank_yake_bert_filtered, data_lake_indexes_filtered)\n",
    "rank_yake_bert_indexes_real = actualIndexes(rank_yake_bert_indexes, query_number)\n",
    "# printResultsNargesianTables(rank_yake_bert_indexes_real[:k], rank_yake_bert_similarities[:k], keywordExtractionMethod, embeddingsMethod)\n",
    "\n",
    "print(\"-----\")\n",
    "running_time_yake_bert = time.time() - start_time\n",
    "print(\"Running time: %s seconds\" % round(running_time_yake_bert,2))\n",
    "print(\"Running time (no process): %s seconds\" % round(running_time_yake_bert_noprocess,2))"
   ]
  },
  {
   "cell_type": "code",
   "execution_count": 29,
   "metadata": {},
   "outputs": [
    {
     "name": "stdout",
     "output_type": "stream",
     "text": [
      "Keyword extraction method: yake\n",
      "Embeddings method: bert\n",
      "-----\n",
      "      Index    Similarity\n",
      "--  -------  ------------\n",
      " 0       19   0.00033067\n",
      " 1       13   0.000300701\n",
      " 2       20   0.000238034\n",
      " 3       23   0.00016186\n",
      " 4        1   0.000158187\n",
      " 5       21   0.000101203\n",
      " 6       22   4.11329e-05\n",
      " 7       12   6.76959e-06\n",
      " 8       18   6.14851e-06\n",
      " 9        8   5.75387e-06\n"
     ]
    }
   ],
   "source": [
    "printResultsNargesianTables(rank_yake_bert_indexes_real[:k], rank_yake_bert_similarities[:k], keywordExtractionMethod, embeddingsMethod)"
   ]
  },
  {
   "attachments": {},
   "cell_type": "markdown",
   "metadata": {},
   "source": [
    "# Analysis of the results"
   ]
  },
  {
   "attachments": {},
   "cell_type": "markdown",
   "metadata": {},
   "source": [
    "## Print output rankinngs"
   ]
  },
  {
   "cell_type": "code",
   "execution_count": 30,
   "metadata": {},
   "outputs": [
    {
     "name": "stdout",
     "output_type": "stream",
     "text": [
      "  Simple    LDA    Yake    LDA + Word2Vec    LDA + BERT    Yake + Word2Vec    Yake + BERT\n",
      "--------  -----  ------  ----------------  ------------  -----------------  -------------\n",
      "       1      1       1                 1             1                  1             19\n",
      "      21     12      13                12            12                 13             13\n",
      "      12     13      12                21            21                 20             20\n",
      "       6     21      20                 8            11                 19             23\n",
      "      11     10      19                11             7                 23              1\n",
      "      16      2       2                 7             6                 22             21\n",
      "      14      3       3                 6             5                 21             22\n",
      "      17      4       4                 5             4                 12             12\n",
      "       4      5       5                13            23                  8             18\n",
      "       5      6       6                 4            10                 18              8\n"
     ]
    }
   ],
   "source": [
    "results_indexes = {\n",
    "    'Simple': rank_simple_indexes_real[:k],\n",
    "    'LDA': rank_lda_indexes_real[:k],\n",
    "    'Yake': rank_yake_indexes_real[:k],\n",
    "    'LDA + Word2Vec': rank_lda_word2vec_indexes_real[:k],\n",
    "    'LDA + BERT': rank_lda_bert_indexes_real[:k],\n",
    "    'Yake + Word2Vec': rank_yake_word2vec_indexes_real[:k],\n",
    "    'Yake + BERT': rank_yake_bert_indexes_real[:k]\n",
    "    }\n",
    "print(tabulate(results_indexes, list(results_indexes.keys())))"
   ]
  },
  {
   "attachments": {},
   "cell_type": "markdown",
   "metadata": {},
   "source": [
    "## NDCG"
   ]
  },
  {
   "cell_type": "code",
   "execution_count": null,
   "metadata": {},
   "outputs": [],
   "source": [
    "from sklearn.metrics import ndcg_score\n",
    "\n",
    "labels = pd.read_excel(\"Data/Evaluation/Nargesian/LabelledSimilarities.xlsx\")\n",
    "\n",
    "true_similarities = labels[labels['Query']==query_number][['Data Lake Table', 'Similarity']]\n",
    "\n",
    "true_similarities.set_index('Data Lake Table', inplace=True)\n",
    "\n",
    "true_similarities.drop(query_number, axis= 0, inplace=True) # Since we are using a table from the data lake as a quer table, we have to delete the similarity with itself"
   ]
  },
  {
   "cell_type": "code",
   "execution_count": 32,
   "metadata": {},
   "outputs": [],
   "source": [
    "def ndcg(true_similarities, rank_model_indexes, rank_model_similarities, k):\n",
    "    similaties_by_index = sorted(tuple(zip(rank_model_indexes, rank_model_similarities)), key = lambda x: x[0])\n",
    "    similarities = [x[1] for x in similaties_by_index]\n",
    "    ndcg = ndcg_score(np.asarray([true_similarities]), np.asarray([similarities]), k=k)\n",
    "    return ndcg"
   ]
  },
  {
   "attachments": {},
   "cell_type": "markdown",
   "metadata": {},
   "source": [
    "Simple similarity"
   ]
  },
  {
   "cell_type": "code",
   "execution_count": 33,
   "metadata": {},
   "outputs": [
    {
     "name": "stdout",
     "output_type": "stream",
     "text": [
      "NDCG: 1.0\n"
     ]
    }
   ],
   "source": [
    "ndcg_simple = ndcg(true_similarities['Similarity'], rank_simple_indexes_real, rank_simple_similarities, k)\n",
    "print(\"NDCG:\", ndcg_simple)"
   ]
  },
  {
   "attachments": {},
   "cell_type": "markdown",
   "metadata": {},
   "source": [
    "LDA"
   ]
  },
  {
   "cell_type": "code",
   "execution_count": 34,
   "metadata": {},
   "outputs": [
    {
     "name": "stdout",
     "output_type": "stream",
     "text": [
      "NDCG: 1.0\n"
     ]
    }
   ],
   "source": [
    "ndcg_lda = ndcg(true_similarities['Similarity'], rank_lda_indexes_real, rank_lda_similarities, k)\n",
    "print(\"NDCG:\", ndcg_lda)"
   ]
  },
  {
   "attachments": {},
   "cell_type": "markdown",
   "metadata": {},
   "source": [
    "YAKE"
   ]
  },
  {
   "cell_type": "code",
   "execution_count": 35,
   "metadata": {},
   "outputs": [
    {
     "name": "stdout",
     "output_type": "stream",
     "text": [
      "NDCG: 1.0\n"
     ]
    }
   ],
   "source": [
    "ndcg_yake = ndcg(true_similarities['Similarity'], rank_yake_indexes_real, rank_yake_similarities, k)\n",
    "print(\"NDCG:\", ndcg_yake)"
   ]
  },
  {
   "attachments": {},
   "cell_type": "markdown",
   "metadata": {},
   "source": [
    "LDA + Word2Vec"
   ]
  },
  {
   "cell_type": "code",
   "execution_count": 36,
   "metadata": {},
   "outputs": [
    {
     "name": "stdout",
     "output_type": "stream",
     "text": [
      "NDCG: 1.0\n"
     ]
    }
   ],
   "source": [
    "ndcg_lda_word2vec = ndcg(true_similarities['Similarity'], rank_lda_word2vec_indexes_real, rank_lda_word2vec_similarities, k)\n",
    "print(\"NDCG:\", ndcg_lda_word2vec)"
   ]
  },
  {
   "attachments": {},
   "cell_type": "markdown",
   "metadata": {},
   "source": [
    "LDA + BERT"
   ]
  },
  {
   "cell_type": "code",
   "execution_count": 37,
   "metadata": {},
   "outputs": [
    {
     "name": "stdout",
     "output_type": "stream",
     "text": [
      "NDCG: 1.0\n"
     ]
    }
   ],
   "source": [
    "ndcg_lda_bert = ndcg(true_similarities['Similarity'], rank_lda_bert_indexes_real, rank_lda_bert_similarities, k)\n",
    "print(\"NDCG:\", ndcg_lda_bert)"
   ]
  },
  {
   "attachments": {},
   "cell_type": "markdown",
   "metadata": {},
   "source": [
    "YAKE + Word2Vec"
   ]
  },
  {
   "cell_type": "code",
   "execution_count": 38,
   "metadata": {},
   "outputs": [
    {
     "name": "stdout",
     "output_type": "stream",
     "text": [
      "NDCG: 1.0\n"
     ]
    }
   ],
   "source": [
    "ndcg_yake_word2vec = ndcg(true_similarities['Similarity'], rank_yake_word2vec_indexes_real, rank_yake_word2vec_similarities, k)\n",
    "print(\"NDCG:\", ndcg_yake_word2vec)"
   ]
  },
  {
   "attachments": {},
   "cell_type": "markdown",
   "metadata": {},
   "source": [
    "YAKE + BERT"
   ]
  },
  {
   "cell_type": "code",
   "execution_count": 39,
   "metadata": {},
   "outputs": [
    {
     "name": "stdout",
     "output_type": "stream",
     "text": [
      "NDCG: 0.38685280723454163\n"
     ]
    }
   ],
   "source": [
    "ndcg_yake_bert = ndcg(true_similarities['Similarity'], rank_yake_bert_indexes_real, rank_yake_bert_similarities, k)\n",
    "print(\"NDCG:\", ndcg_yake_bert)"
   ]
  },
  {
   "attachments": {},
   "cell_type": "markdown",
   "metadata": {},
   "source": [
    "Print NCDG scores"
   ]
  },
  {
   "cell_type": "code",
   "execution_count": 40,
   "metadata": {},
   "outputs": [
    {
     "name": "stdout",
     "output_type": "stream",
     "text": [
      "Simple: 1.0\n",
      "LDA: 1.0\n",
      "Yake: 1.0\n",
      "LDA + Word2Vec: 1.0\n",
      "LDA + BERT: 1.0\n",
      "Yake + Word2Vec: 1.0\n",
      "Yake + BERT: 0.38685280723454163\n"
     ]
    }
   ],
   "source": [
    "ncdg_scores = {\n",
    "    'Simple': ndcg_simple,\n",
    "    'LDA': ndcg_lda,\n",
    "    'Yake': ndcg_yake,\n",
    "    'LDA + Word2Vec': ndcg_lda_word2vec,\n",
    "    'LDA + BERT': ndcg_lda_bert,\n",
    "    'Yake + Word2Vec': ndcg_yake_word2vec,\n",
    "    'Yake + BERT': ndcg_yake_bert\n",
    "    }\n",
    "\n",
    "for model in ncdg_scores:\n",
    "    print(\"{}: {}\".format(model, ncdg_scores[model]))"
   ]
  },
  {
   "cell_type": "code",
   "execution_count": 17,
   "metadata": {},
   "outputs": [
    {
     "data": {
      "image/png": "[encoded data removed]",
      "text/plain": [
       "<Figure size 1000x500 with 1 Axes>"
      ]
     },
     "metadata": {},
     "output_type": "display_data"
    }
   ],
   "source": [
    "query_number = 3\n",
    "ncdg_scores = results[query_number]['accuracy']\n",
    "\n",
    "models = ncdg_scores.keys()\n",
    "scores = ncdg_scores.values()\n",
    "\n",
    "fig = plt.figure(figsize = (10, 5))\n",
    "plt.bar(models, scores)\n",
    "plt.xlabel(\"Model\")\n",
    "plt.ylabel(\"NCDG\")\n",
    "plt.title(\"Accuracy of the models for query {}\".format(query_number))\n",
    "plt.show()"
   ]
  },
  {
   "attachments": {},
   "cell_type": "markdown",
   "metadata": {},
   "source": [
    "## Efficiency"
   ]
  },
  {
   "cell_type": "code",
   "execution_count": 42,
   "metadata": {},
   "outputs": [
    {
     "data": {
      "image/png": "[encoded data removed]",
      "text/plain": [
       "<Figure size 1000x500 with 1 Axes>"
      ]
     },
     "metadata": {},
     "output_type": "display_data"
    }
   ],
   "source": [
    "running_times = {\n",
    "    'Simple': running_time_simple,\n",
    "    'LDA': running_time_lda,\n",
    "    'Yake': running_time_yake,\n",
    "    'LDA + Word2Vec': running_time_lda_word2vec,\n",
    "    'LDA + BERT': running_time_lda_bert,\n",
    "    'Yake + Word2Vec': running_time_yake_word2vec,\n",
    "    'Yake + BERT': running_time_yake_bert\n",
    "}\n",
    "\n",
    "models = list(running_times.keys())\n",
    "times = list(running_times.values())\n",
    "  \n",
    "fig = plt.figure(figsize = (10, 5))\n",
    "plt.bar(models, times)\n",
    "plt.xlabel(\"Model\")\n",
    "plt.ylabel(\"Time (seconds)\")\n",
    "plt.title(\"Execution time of the models for query {}\".format(query_number))\n",
    "plt.show()"
   ]
  },
  {
   "cell_type": "code",
   "execution_count": null,
   "metadata": {},
   "outputs": [],
   "source": [
    "running_times_noprocess = {\n",
    "    'Simple': running_time_simple,\n",
    "    'LDA': running_time_lda_noprocess,\n",
    "    'Yake': running_time_yake_noprocess,\n",
    "    'LDA + Word2Vec': running_time_lda_word2vec_noprocess,\n",
    "    'LDA + BERT': running_time_lda_bert_noprocess,\n",
    "    'Yake + Word2Vec': running_time_yake_word2vec_noprocess,\n",
    "    'Yake + BERT': running_time_yake_bert_noprocess\n",
    "}\n",
    "\n",
    "models = list(running_times_noprocess.keys())\n",
    "times = list(running_times_noprocess.values())\n",
    "  \n",
    "fig = plt.figure(figsize = (10, 5))\n",
    "plt.bar(models, times)\n",
    "plt.xlabel(\"Model\")\n",
    "plt.ylabel(\"Time (seconds)\")\n",
    "plt.title(\"Execution time of the models\")\n",
    "plt.show()"
   ]
  },
  {
   "attachments": {},
   "cell_type": "markdown",
   "metadata": {},
   "source": [
    "## Overall results"
   ]
  },
  {
   "cell_type": "code",
   "execution_count": 43,
   "metadata": {},
   "outputs": [],
   "source": [
    "if \"results\" not in globals():\n",
    "    results = []\n",
    "results_query = {\n",
    "    'query': query_number,\n",
    "    'accuracy': ncdg_scores,\n",
    "    'efficiency': running_times,\n",
    "    'efficiency_noprocess': running_times_noprocess\n",
    "}\n",
    "\n",
    "# If there already exists the results for this query, we udpate them. Otherwise, we just append the results for the new query\n",
    "matching_index = next((i for i, result in enumerate(results) if result['query'] == query_number), None)\n",
    "if matching_index is not None:\n",
    "    results[matching_index] = results_query\n",
    "else:\n",
    "    results.append(results_query)"
   ]
  },
  {
   "cell_type": "code",
   "execution_count": 6,
   "metadata": {},
   "outputs": [
    {
     "name": "stdout",
     "output_type": "stream",
     "text": [
      "Mean Accuracies:\n",
      "Simple: 1.0\n",
      "LDA: 0.9362428116549264\n",
      "Yake: 0.9362428116549264\n",
      "LDA + Word2Vec: 0.8335615511267066\n",
      "LDA + BERT: 0.6943082143066608\n",
      "Yake + Word2Vec: 0.5177250796455836\n",
      "Yake + BERT: 0.33604101968203554\n",
      "\n",
      "Mean Efficiencies (Processing data lake):\n",
      "Simple: 26.093993842601776\n",
      "LDA: 0.13682299852371216\n",
      "Yake: 3.089224100112915\n",
      "LDA + Word2Vec: 0.10196161270141602\n",
      "LDA + BERT: 0.6431064605712891\n",
      "Yake + Word2Vec: 2.8466858863830566\n",
      "Yake + BERT: 3.5356555581092834\n"
     ]
    }
   ],
   "source": [
    "accuracies = {}\n",
    "efficiencies = {}\n",
    "# efficiencies_noprocess = {}\n",
    "\n",
    "for result in results:\n",
    "    for model in result['accuracy']:\n",
    "        if model not in accuracies:\n",
    "            accuracies[model] = []\n",
    "            efficiencies[model] = []\n",
    "            # efficiencies_noprocess[model] = []\n",
    "        accuracies[model].append(result['accuracy'][model])\n",
    "        efficiencies[model].append(result['efficiency'][model])\n",
    "        # efficiencies_noprocess[model].append(result['efficiency_noprocess'][model])\n",
    "\n",
    "means_accuracies = {}\n",
    "means_efficiencies = {}\n",
    "# means_efficiencies_noprocess = {}\n",
    "\n",
    "for model, accuracy_list in accuracies.items():\n",
    "    accuracy_mean = sum(accuracy_list) / len(accuracy_list)\n",
    "    means_accuracies[model] = accuracy_mean\n",
    "\n",
    "    efficiency_list = efficiencies[model]\n",
    "    efficiency_mean = sum(efficiency_list) / len(efficiency_list)\n",
    "    means_efficiencies[model] = efficiency_mean\n",
    "\n",
    "    # efficiency_noprocess_list = efficiencies_noprocess[model]\n",
    "    # efficiency_noprocess_mean = sum(efficiency_noprocess_list) / len(efficiency_noprocess_list)\n",
    "    # means_efficiencies_noprocess[model] = efficiency_noprocess_mean\n",
    "\n",
    "print(\"Mean Accuracies:\")\n",
    "for model, mean in means_accuracies.items():\n",
    "    print(f\"{model}: {mean}\")\n",
    "\n",
    "print(\"\\nMean Efficiencies (Processing data lake):\")\n",
    "for model, mean in means_efficiencies.items():\n",
    "    print(f\"{model}: {mean}\")\n",
    "\n",
    "# print(\"\\nMean Efficiencies (Using a preprocess data lake):\")\n",
    "# for model, mean in means_efficiencies_noprocess.items():\n",
    "#     print(f\"{model}: {mean}\")"
   ]
  },
  {
   "cell_type": "code",
   "execution_count": 7,
   "metadata": {},
   "outputs": [],
   "source": [
    "means_efficiencies_noprocess = means_efficiencies"
   ]
  },
  {
   "cell_type": "code",
   "execution_count": 8,
   "metadata": {},
   "outputs": [
    {
     "data": {
      "image/png": "[encoded data removed]",
      "text/plain": [
       "<Figure size 1350x200 with 1 Axes>"
      ]
     },
     "metadata": {},
     "output_type": "display_data"
    }
   ],
   "source": [
    "models = means_accuracies.keys()\n",
    "accuracies = means_accuracies.values()\n",
    "\n",
    "fig = plt.figure(figsize = (13.5, 2))\n",
    "plt.bar(models, accuracies, color='#FFE166')\n",
    "plt.xlabel(\"Model\")\n",
    "plt.xticks(rotation = 20) # Rotates X-Axis Ticks by 20-degrees\n",
    "plt.ylabel(\"NCDG@{}\".format(k))\n",
    "plt.title(\"Average accuracy\")\n",
    "plt.show()"
   ]
  },
  {
   "cell_type": "code",
   "execution_count": 8,
   "metadata": {},
   "outputs": [
    {
     "data": {
      "image/png": "[encoded data removed]",
      "text/plain": [
       "<Figure size 800x400 with 1 Axes>"
      ]
     },
     "metadata": {},
     "output_type": "display_data"
    }
   ],
   "source": [
    "models = means_accuracies.keys()\n",
    "accuracies = means_accuracies.values()\n",
    "\n",
    "fig = plt.figure(figsize = (8, 4))\n",
    "plt.bar(models, accuracies, color='#FFE166')\n",
    "plt.xlabel(\"Model\")\n",
    "plt.xticks(rotation = 20, ha='right') # Rotates X-Axis Ticks and alighs the labels\n",
    "plt.ylabel(\"NCDG@{}\".format(k))\n",
    "plt.title(\"Average accuracy\")\n",
    "plt.show()"
   ]
  },
  {
   "cell_type": "code",
   "execution_count": 105,
   "metadata": {},
   "outputs": [
    {
     "data": {
      "image/png": "[encoded data removed]",
      "text/plain": [
       "<Figure size 600x150 with 1 Axes>"
      ]
     },
     "metadata": {},
     "output_type": "display_data"
    }
   ],
   "source": [
    "models = means_efficiencies.keys()\n",
    "efficiencies_noprocess = means_efficiencies.values()\n",
    "\n",
    "fig = plt.figure(figsize = (6, 1.5))\n",
    "plt.bar(models, efficiencies_noprocess, color='#FFE166')\n",
    "plt.xticks([])  # Remove x-axis labels\n",
    "plt.ylabel(\"Time (seconds)\")\n",
    "plt.title(\"Average execution time (Using a preprocessed data lake)\")\n",
    "plt.show()"
   ]
  },
  {
   "cell_type": "code",
   "execution_count": 93,
   "metadata": {},
   "outputs": [
    {
     "data": {
      "image/png": "[encoded data removed]",
      "text/plain": [
       "<Figure size 600x150 with 1 Axes>"
      ]
     },
     "metadata": {},
     "output_type": "display_data"
    }
   ],
   "source": [
    "models = means_efficiencies.keys()\n",
    "efficiencies = means_efficiencies.values()\n",
    "\n",
    "fig = plt.figure(figsize = (6, 1.5))\n",
    "plt.bar(models, efficiencies, color='#FFE166')\n",
    "plt.xlabel(\"Model\")\n",
    "plt.xticks(rotation = 20) # Rotates X-Axis Ticks by 20-degrees\n",
    "plt.ylabel(\"Time (seconds)\")\n",
    "plt.title(\"Average execution time (Processing the data lake)\")\n",
    "plt.show()"
   ]
  },
  {
   "cell_type": "code",
   "execution_count": 51,
   "metadata": {},
   "outputs": [
    {
     "data": {
      "image/png": "[encoded data removed]",
      "text/plain": [
       "<Figure size 800x400 with 2 Axes>"
      ]
     },
     "metadata": {},
     "output_type": "display_data"
    }
   ],
   "source": [
    "models = means_efficiencies.keys()\n",
    "efficiencies = means_efficiencies.values()\n",
    "efficiencies_noprocess = means_efficiencies_noprocess.values()\n",
    "\n",
    "x = np.arange(len(models))\n",
    "width = 0.4\n",
    "\n",
    "fig, ax = plt.subplots(figsize = (8, 4))\n",
    "ax2 = ax.twinx() # Create another axes that shares the same x-axis as ax.\n",
    "\n",
    "bar1 = ax.bar(x-(width/2), efficiencies_noprocess, width=width, color='#FFE166')\n",
    "bar2 = ax2.bar(x+(width/2), efficiencies, width=width, color='#F989A4')\n",
    "ax.set_xlabel(\"Model\")\n",
    "ax.set_xticks(x)\n",
    "ax.set_xticklabels(models, rotation = 20, ha='right') # Rotates X-Axis Ticks by 20-degrees\n",
    "ax.set_ylabel(\"Time (seconds)\")\n",
    "ax.yaxis.label.set_color('#BF9A00')\n",
    "ax2.set_ylabel(\"Time (seconds)\")\n",
    "ax2.yaxis.label.set_color('#900728')\n",
    "ax.set_title(\"Average execution time\\n\\n\")\n",
    "\n",
    "bars = [bar1, bar2]\n",
    "labels = ['Using a preprocessed data lake', 'Processing the data lake']\n",
    "plt.legend(bars, labels, loc='upper center', ncol = 2, bbox_to_anchor=(0.5, 1.13))\n",
    "\n",
    "plt.show()"
   ]
  },
  {
   "attachments": {},
   "cell_type": "markdown",
   "metadata": {},
   "source": [
    "# Other Features"
   ]
  },
  {
   "cell_type": "code",
   "execution_count": 30,
   "metadata": {},
   "outputs": [],
   "source": [
    "with open(\"Data/Evaluation/Nargesian/results\", \"wb\") as fp:   #Pickling\n",
    "    pickle.dump(results, fp)"
   ]
  },
  {
   "cell_type": "code",
   "execution_count": 5,
   "metadata": {},
   "outputs": [],
   "source": [
    "with open(\"Data/Evaluation/Nargesian/results_noprocess\", \"rb\") as fp:   # Unpickling\n",
    "    results = pickle.load(fp)"
   ]
  },
  {
   "cell_type": "code",
   "execution_count": 24,
   "metadata": {},
   "outputs": [],
   "source": [
    "import winsound\n",
    "frequency = 2500  # Set Frequency To 2500 Hertz\n",
    "duration = 500  # Set Duration To 1000 ms == 1 second\n",
    "winsound.Beep(frequency, duration)\n",
    "winsound.Beep(frequency, duration)\n",
    "winsound.Beep(frequency, duration*2)"
   ]
  }
 ],
 "metadata": {
  "kernelspec": {
   "display_name": "Python 3",
   "language": "python",
   "name": "python3"
  },
  "language_info": {
   "codemirror_mode": {
    "name": "ipython",
    "version": 3
   },
   "file_extension": ".py",
   "mimetype": "text/x-python",
   "name": "python",
   "nbconvert_exporter": "python",
   "pygments_lexer": "ipython3",
   "version": "3.10.7"
  },
  "orig_nbformat": 4
 },
 "nbformat": 4,
 "nbformat_minor": 2
}
